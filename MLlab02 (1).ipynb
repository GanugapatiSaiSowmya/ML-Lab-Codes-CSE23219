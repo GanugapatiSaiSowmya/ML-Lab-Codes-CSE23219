{
  "cells": [
    {
      "cell_type": "markdown",
      "id": "e2a48740",
      "metadata": {
        "id": "e2a48740"
      },
      "source": [
        "# ML Lab Session 02\n",
        "Subject: 23CSE301\n",
        "BL.EN.U4CSE23219\n",
        "\n"
      ]
    },
    {
      "cell_type": "markdown",
      "id": "9899297b",
      "metadata": {
        "id": "9899297b"
      },
      "source": [
        "## a1: Matrix dimensionality, rank, vector space, Factorization & Pseudo Inverse"
      ]
    },
    {
      "cell_type": "code",
      "execution_count": 3,
      "id": "bc898cf4",
      "metadata": {
        "id": "bc898cf4",
        "outputId": "40ea3b50-b2c5-48c6-9a39-4f5b3d04d1c6",
        "colab": {
          "base_uri": "https://localhost:8080/"
        }
      },
      "outputs": [
        {
          "output_type": "stream",
          "name": "stdout",
          "text": [
            "Dimensionality of vector space: 3\n",
            "Number of vectors: 10\n",
            "Rank of matrix A: 3\n",
            "Cost per product (Candy, Mango, Milk): [ 1. 55. 18.]\n"
          ]
        }
      ],
      "source": [
        "#importng libraries\n",
        "import pandas as pd\n",
        "import numpy as np\n",
        "#read csv file after loading it\n",
        "df = pd.read_csv(\"/content/drive/MyDrive/ML Datasets/Purchase data.csv\")\n",
        "#selects needed columns\n",
        "df = df[['Candies (#)', 'Mangoes (Kg)', 'Milk Packets (#)', 'Payment (Rs)']].dropna() #dropna() removes rows with missing values NaN\n",
        "A = df[['Candies (#)', 'Mangoes (Kg)', 'Milk Packets (#)']].to_numpy() #matrix of purchases rows->one customer's shopping,  Columns -> number of Candies, Mangoes, Milk.\n",
        "C = df[['Payment (Rs)']].to_numpy() #total bill of each customer (dependent variable)\n",
        "print(\"Dimensionality of vector space:\", A.shape[1])\n",
        "print(\"Number of vectors:\", A.shape[0])\n",
        "print(\"Rank of matrix A:\", np.linalg.matrix_rank(A))\n",
        "X = np.linalg.pinv(A) @ C #calculates psuedo inverse of a function after finding least squares of a cuz a is not square\n",
        "print(\"Cost per product (Candy, Mango, Milk):\", X.flatten().round(2))"
      ]
    },
    {
      "cell_type": "code",
      "source": [
        "from google.colab import drive\n",
        "drive.mount('/content/drive')"
      ],
      "metadata": {
        "colab": {
          "base_uri": "https://localhost:8080/"
        },
        "id": "HEL2h2PitleW",
        "outputId": "1f0fde28-ebe2-4d9f-e4a6-3b71355e0de9"
      },
      "id": "HEL2h2PitleW",
      "execution_count": 2,
      "outputs": [
        {
          "output_type": "stream",
          "name": "stdout",
          "text": [
            "Mounted at /content/drive\n"
          ]
        }
      ]
    },
    {
      "cell_type": "markdown",
      "id": "97c3b48a",
      "metadata": {
        "id": "97c3b48a"
      },
      "source": [
        "## A2: Classifier Model - Rich vs Poor"
      ]
    },
    {
      "cell_type": "code",
      "execution_count": 4,
      "id": "cfb897c6",
      "metadata": {
        "id": "cfb897c6",
        "outputId": "d88611aa-9601-4169-ba3e-c02498287a2b",
        "colab": {
          "base_uri": "https://localhost:8080/"
        }
      },
      "outputs": [
        {
          "output_type": "stream",
          "name": "stdout",
          "text": [
            "              precision    recall  f1-score   support\n",
            "\n",
            "        POOR       1.00      1.00      1.00         1\n",
            "        RICH       1.00      1.00      1.00         2\n",
            "\n",
            "    accuracy                           1.00         3\n",
            "   macro avg       1.00      1.00      1.00         3\n",
            "weighted avg       1.00      1.00      1.00         3\n",
            "\n"
          ]
        }
      ],
      "source": [
        "import pandas as pd\n",
        "from sklearn.linear_model import LogisticRegression\n",
        "from sklearn.model_selection import train_test_split\n",
        "from sklearn.metrics import classification_report\n",
        "df = pd.read_csv(\"/content/drive/MyDrive/ML Datasets/Purchase data.csv\")\n",
        "df = df[['Candies (#)', 'Mangoes (Kg)', 'Milk Packets (#)', 'Payment (Rs)']].dropna()\n",
        "df['Label'] = df['Payment (Rs)'].apply(lambda x: 'RICH' if x > 200 else 'POOR') #creating labels if >200->rich else poor\n",
        "X = df[['Candies (#)', 'Mangoes (Kg)', 'Milk Packets (#)']] #inputs (shopping basket)\n",
        "y = df['Label'] #output (RICH / POOR)\n",
        "X_train, X_test, y_train, y_test = train_test_split(X, y, random_state=0) #Splits data into training set->used to fit the model and Testing set -> used to evaluate the model and random_state=0 makes sure split is reproducible (same shuffle every time)\n",
        "model = LogisticRegression() #Logistic regression uses the sigmoid function to map outputs into probabilities between 0 and 1.\n",
        "model.fit(X_train, y_train) #fitting model of logistic regression\n",
        "y_pred = model.predict(X_test) #prediction of output values after training using test data points\n",
        "print(classification_report(y_test, y_pred))"
      ]
    },
    {
      "cell_type": "markdown",
      "id": "7bd8395a",
      "metadata": {
        "id": "7bd8395a"
      },
      "source": [
        "## A3: IRCTC Stock Price Analysis calculation of mean, variance\n",
        "\n",
        "\n",
        "---\n",
        "\n"
      ]
    },
    {
      "cell_type": "code",
      "execution_count": 5,
      "id": "c3179419",
      "metadata": {
        "id": "c3179419",
        "outputId": "1be78898-88ba-4108-f459-45937b360928",
        "colab": {
          "base_uri": "https://localhost:8080/",
          "height": 770
        }
      },
      "outputs": [
        {
          "output_type": "stream",
          "name": "stdout",
          "text": [
            "Population mean price: Rs. 1560.66\n",
            "Population price variance: 58732.37\n",
            "Wednesday mean price: Rs. 1550.71\n",
            "Difference from overall mean: -9.96\n",
            "April mean price: Rs. 1698.95\n",
            "Difference from overall mean: 138.29\n",
            "Probability of stock loss: 0.48\n",
            "Probability of profit on Wednesdays: 0.42\n",
            "Conditional probability of profit given it's Wednesday: 0.42\n"
          ]
        },
        {
          "output_type": "stream",
          "name": "stderr",
          "text": [
            "/tmp/ipython-input-2987813893.py:42: FutureWarning: \n",
            "\n",
            "Passing `palette` without assigning `hue` is deprecated and will be removed in v0.14.0. Assign the `x` variable to `hue` and set `legend=False` for the same effect.\n",
            "\n",
            "  sns.stripplot(x='Day', y='Chg%', data=df, jitter=True, palette='Set2', size=6) #Strip plot: scatter plot with some jitter (to avoid overlap)\n"
          ]
        },
        {
          "output_type": "display_data",
          "data": {
            "text/plain": [
              "<Figure size 800x500 with 1 Axes>"
            ],
            "image/png": "[encoded data removed]"
          },
          "metadata": {}
        }
      ],
      "source": [
        "#importing libraries\n",
        "import pandas as pd\n",
        "from statistics import mean, variance\n",
        "import matplotlib.pyplot as plt\n",
        "import seaborn as sns\n",
        "\n",
        "def analyze_irctc(stock_df): #This function takes in a DataFrame containing all stock info.\n",
        "    df = stock_df.copy()\n",
        "    # Cleaning Price column\n",
        "    df['Price'] = df['Price'].astype(str).str.replace(',', '').astype(float)\n",
        "    # Cleaning Chg% column\n",
        "    df['Chg%'] = df['Chg%'].astype(str).str.replace('%', '', regex=False)\n",
        "    df['Chg%'] = pd.to_numeric(df['Chg%'], errors='coerce')\n",
        "    # Calculations\n",
        "    price_mean = df['Price'].mean()#Overall average price.\n",
        "    price_var = df['Price'].var() #Overall variance.\n",
        "    #Subset= taking only Wednesday data and only April data\n",
        "    wednesdays = df[df['Day'].str.strip().str.lower() == 'wed']\n",
        "    april = df[df['Month'].str.strip().str.lower() == 'apr']\n",
        "    wednesday_mean = wednesdays['Price'].mean() #wednesday mean calculation\n",
        "    april_mean = april['Price'].mean() #april mean calculation\n",
        "    p_loss = (df['Chg%'] < 0).mean() #(df['Chg%']<0)=gives True/False for each row and .mean() on booleans gives proportion= probability of loss.\n",
        "    p_profit_on_wed = (wednesdays['Chg%'] > 0).mean() #Probability of profit if it’s Wednesday\n",
        "\n",
        "    # Printing the results\n",
        "    print(f\"Population mean price: Rs. {price_mean:.2f}\")\n",
        "    print(f\"Population price variance: {price_var:.2f}\")\n",
        "    print(f\"Wednesday mean price: Rs. {wednesday_mean:.2f}\")\n",
        "    print(f\"Difference from overall mean: {wednesday_mean - price_mean:.2f}\")\n",
        "    print(f\"April mean price: Rs. {april_mean:.2f}\")\n",
        "    print(f\"Difference from overall mean: {april_mean - price_mean:.2f}\")\n",
        "    print(f\"Probability of stock loss: {p_loss:.2f}\")\n",
        "    print(f\"Probability of profit on Wednesdays: {p_profit_on_wed:.2f}\")\n",
        "    print(f\"Conditional probability of profit given it's Wednesday: {p_profit_on_wed:.2f}\")\n",
        "\n",
        "    return df\n",
        "#graph plotting function\n",
        "def plot_chg_percent_vs_day(df):\n",
        "    df = df.copy()\n",
        "    df['Day'] = df['Day'].astype(str).str.strip().str.capitalize() #cleaning up day names\n",
        "    plt.figure(figsize=(8, 5))\n",
        "    sns.stripplot(x='Day', y='Chg%', data=df, jitter=True, palette='Set2', size=6) #Strip plot: scatter plot with some jitter (to avoid overlap)\n",
        "    plt.title('Chg% vs Day of the Week')\n",
        "    plt.xlabel('Day of the Week')\n",
        "    plt.ylabel('Change (%)')\n",
        "    plt.grid(True, linestyle='--', alpha=0.5)\n",
        "    plt.tight_layout()\n",
        "    plt.show()\n",
        "\n",
        "# === Main Execution ===\n",
        "if __name__ == '__main__':\n",
        "    # Load CSV into DataFrame\n",
        "    irctc_data = pd.read_csv(\"/content/drive/MyDrive/ML Datasets/IRCTC stock price.csv\")\n",
        "\n",
        "    # Pass the DataFrame into the function\n",
        "    cleaned_irctc = analyze_irctc(irctc_data)\n",
        "\n",
        "    # Plotting\n",
        "    plot_chg_percent_vs_day(cleaned_irctc)\n"
      ]
    },
    {
      "cell_type": "markdown",
      "id": "3bd09bd8",
      "metadata": {
        "id": "3bd09bd8"
      },
      "source": [
        "## A4: Thyroid Dataset Exploration"
      ]
    },
    {
      "cell_type": "code",
      "execution_count": 6,
      "id": "f679fc81",
      "metadata": {
        "id": "f679fc81",
        "outputId": "bb71acb6-f118-47d5-903f-6f336683f65e",
        "colab": {
          "base_uri": "https://localhost:8080/"
        }
      },
      "outputs": [
        {
          "output_type": "stream",
          "name": "stdout",
          "text": [
            "Data types of each column:\n",
            "\n",
            "Record ID                     int64\n",
            "age                           int64\n",
            "sex                          object\n",
            "on thyroxine                 object\n",
            "query on thyroxine           object\n",
            "on antithyroid medication    object\n",
            "sick                         object\n",
            "pregnant                     object\n",
            "thyroid surgery              object\n",
            "I131 treatment               object\n",
            "query hypothyroid            object\n",
            "query hyperthyroid           object\n",
            "lithium                      object\n",
            "goitre                       object\n",
            "tumor                        object\n",
            "hypopituitary                object\n",
            "psych                        object\n",
            "TSH measured                 object\n",
            "TSH                          object\n",
            "T3 measured                  object\n",
            "T3                           object\n",
            "TT4 measured                 object\n",
            "TT4                          object\n",
            "T4U measured                 object\n",
            "T4U                          object\n",
            "FTI measured                 object\n",
            "FTI                          object\n",
            "TBG measured                 object\n",
            "TBG                          object\n",
            "referral source              object\n",
            "Condition                    object\n",
            "dtype: object\n",
            "\n",
            " Encoding Suggestions:\n",
            "- Record ID: Numeric (No encoding needed)\n",
            "- age: Numeric (No encoding needed)\n",
            "- sex: One-Hot Encoding (Nominal/categorical)\n",
            "- on thyroxine: One-Hot Encoding (Nominal/categorical)\n",
            "- query on thyroxine: One-Hot Encoding (Nominal/categorical)\n",
            "- on antithyroid medication: One-Hot Encoding (Nominal/categorical)\n",
            "- sick: One-Hot Encoding (Nominal/categorical)\n",
            "- pregnant: One-Hot Encoding (Nominal/categorical)\n",
            "- thyroid surgery: One-Hot Encoding (Nominal/categorical)\n",
            "- I131 treatment: One-Hot Encoding (Nominal/categorical)\n",
            "- query hypothyroid: One-Hot Encoding (Nominal/categorical)\n",
            "- query hyperthyroid: One-Hot Encoding (Nominal/categorical)\n",
            "- lithium: One-Hot Encoding (Nominal/categorical)\n",
            "- goitre: One-Hot Encoding (Nominal/categorical)\n",
            "- tumor: One-Hot Encoding (Nominal/categorical)\n",
            "- hypopituitary: One-Hot Encoding (Nominal/categorical)\n",
            "- psych: One-Hot Encoding (Nominal/categorical)\n",
            "- TSH measured: One-Hot Encoding (Nominal/categorical)\n",
            "- TSH: One-Hot Encoding (Nominal/categorical)\n",
            "- T3 measured: One-Hot Encoding (Nominal/categorical)\n",
            "- T3: One-Hot Encoding (Nominal/categorical)\n",
            "- TT4 measured: One-Hot Encoding (Nominal/categorical)\n",
            "- TT4: One-Hot Encoding (Nominal/categorical)\n",
            "- T4U measured: One-Hot Encoding (Nominal/categorical)\n",
            "- T4U: One-Hot Encoding (Nominal/categorical)\n",
            "- FTI measured: One-Hot Encoding (Nominal/categorical)\n",
            "- FTI: One-Hot Encoding (Nominal/categorical)\n",
            "- TBG measured: One-Hot Encoding (Nominal/categorical)\n",
            "- TBG: One-Hot Encoding (Nominal/categorical)\n",
            "- referral source: One-Hot Encoding (Nominal/categorical)\n",
            "- Condition: One-Hot Encoding (Nominal/categorical)\n",
            "\n",
            " Data range for numeric columns:\n",
            "\n",
            "          Record ID           age\n",
            "count  9.172000e+03   9172.000000\n",
            "mean   8.529473e+08     73.555822\n",
            "std    7.581969e+06   1183.976718\n",
            "min    8.408010e+08      1.000000\n",
            "25%    8.504090e+08     37.000000\n",
            "50%    8.510040e+08     55.000000\n",
            "75%    8.607110e+08     68.000000\n",
            "max    8.701190e+08  65526.000000\n",
            "\n",
            " Missing values in each column:\n",
            "\n",
            "Record ID                    0\n",
            "age                          0\n",
            "sex                          0\n",
            "on thyroxine                 0\n",
            "query on thyroxine           0\n",
            "on antithyroid medication    0\n",
            "sick                         0\n",
            "pregnant                     0\n",
            "thyroid surgery              0\n",
            "I131 treatment               0\n",
            "query hypothyroid            0\n",
            "query hyperthyroid           0\n",
            "lithium                      0\n",
            "goitre                       0\n",
            "tumor                        0\n",
            "hypopituitary                0\n",
            "psych                        0\n",
            "TSH measured                 0\n",
            "TSH                          0\n",
            "T3 measured                  0\n",
            "T3                           0\n",
            "TT4 measured                 0\n",
            "TT4                          0\n",
            "T4U measured                 0\n",
            "T4U                          0\n",
            "FTI measured                 0\n",
            "FTI                          0\n",
            "TBG measured                 0\n",
            "TBG                          0\n",
            "referral source              0\n",
            "Condition                    0\n",
            "dtype: int64\n",
            "\n",
            " Outlier summary (using IQR method):\n",
            "- Record ID: 0 outliers\n",
            "- age: 4 outliers\n",
            "\n",
            " Mean and Standard Deviation for numeric columns:\n",
            "- Record ID: Mean = 852947346.61, Std = 7581968.78\n",
            "- age: Mean = 73.56, Std = 1183.98\n"
          ]
        }
      ],
      "source": [
        "import pandas as pd\n",
        "df = pd.read_excel(\"/content/drive/MyDrive/ML Datasets/Lab Session Data.xlsx\", sheet_name=\"thyroid0387_UCI\")\n",
        "\n",
        "print(\"Data types of each column:\\n\")\n",
        "print(df.dtypes)\n",
        "print(\"\\n Encoding Suggestions:\")\n",
        "for col in df.columns:\n",
        "    if df[col].dtype == 'object': #if type of object then one hot\n",
        "        print(f\"- {col}: One-Hot Encoding (Nominal/categorical)\")\n",
        "    elif df[col].dtype in ['int64', 'float64']: #if type numeric and has few unique values then label\n",
        "        unique_vals = df[col].dropna().unique()\n",
        "        if len(unique_vals) <= 10:\n",
        "            print(f\"- {col}: Label Encoding (Likely Ordinal)\")\n",
        "        else: #if many unique values then no encoding required\n",
        "            print(f\"- {col}: Numeric (No encoding needed)\")\n",
        "print(\"\\n Data range for numeric columns:\\n\")\n",
        "print(df.describe(include='number'))\n",
        "print(\"\\n Missing values in each column:\\n\")\n",
        "print(df.isnull().sum())\n",
        "print(\"\\n Outlier summary (using IQR method):\")\n",
        "for col in df.select_dtypes(include='number').columns:\n",
        "    series = df[col].dropna()\n",
        "    if series.empty:\n",
        "        print(f\"- {col}: Skipped (no valid numeric data)\")\n",
        "        continue\n",
        "    Q1 = series.quantile(0.25)\n",
        "    Q3 = series.quantile(0.75)\n",
        "    IQR = Q3 - Q1\n",
        "    if IQR == 0:\n",
        "        print(f\"- {col}: Skipped (IQR = 0, all values nearly same)\")\n",
        "    else:\n",
        "        outliers = df[(df[col] < (Q1 - 1.5 * IQR)) | (df[col] > (Q3 + 1.5 * IQR))]\n",
        "        print(f\"- {col}: {len(outliers)} outliers\")\n",
        "\n",
        "\n",
        "print(\"\\n Mean and Standard Deviation for numeric columns:\")\n",
        "for col in df.select_dtypes(include='number').columns:\n",
        "    values = df[col].dropna()\n",
        "    if values.empty:\n",
        "        print(f\"- {col}: Skipped (all values are NaN)\")\n",
        "    else:\n",
        "        print(f\"- {col}: Mean = {values.mean():.2f}, Std = {values.std():.2f}\")\n"
      ]
    },
    {
      "cell_type": "markdown",
      "id": "bd840fd5",
      "metadata": {
        "id": "bd840fd5"
      },
      "source": [
        "## A5: Jaccard & SMC Similarity Measure (Binary Attributes)"
      ]
    },
    {
      "cell_type": "code",
      "execution_count": 7,
      "id": "14007a23",
      "metadata": {
        "id": "14007a23",
        "outputId": "e3ba9089-b79e-4505-eabf-f9477ad2df20",
        "colab": {
          "base_uri": "https://localhost:8080/"
        }
      },
      "outputs": [
        {
          "output_type": "stream",
          "name": "stdout",
          "text": [
            " Data types of each column:\n",
            "\n",
            "Record ID                     int64\n",
            "age                           int64\n",
            "sex                          object\n",
            "on thyroxine                 object\n",
            "query on thyroxine           object\n",
            "on antithyroid medication    object\n",
            "sick                         object\n",
            "pregnant                     object\n",
            "thyroid surgery              object\n",
            "I131 treatment               object\n",
            "query hypothyroid            object\n",
            "query hyperthyroid           object\n",
            "lithium                      object\n",
            "goitre                       object\n",
            "tumor                        object\n",
            "hypopituitary                object\n",
            "psych                        object\n",
            "TSH measured                 object\n",
            "TSH                          object\n",
            "T3 measured                  object\n",
            "T3                           object\n",
            "TT4 measured                 object\n",
            "TT4                          object\n",
            "T4U measured                 object\n",
            "T4U                          object\n",
            "FTI measured                 object\n",
            "FTI                          object\n",
            "TBG measured                 object\n",
            "TBG                          object\n",
            "referral source              object\n",
            "Condition                    object\n",
            "dtype: object\n",
            "\n",
            "Encoding Suggestions:\n",
            "- Record ID: Numeric (No encoding needed)\n",
            "- age: Numeric (No encoding needed)\n",
            "- sex: One-Hot Encoding (Nominal)\n",
            "- on thyroxine: One-Hot Encoding (Nominal)\n",
            "- query on thyroxine: One-Hot Encoding (Nominal)\n",
            "- on antithyroid medication: One-Hot Encoding (Nominal)\n",
            "- sick: One-Hot Encoding (Nominal)\n",
            "- pregnant: One-Hot Encoding (Nominal)\n",
            "- thyroid surgery: One-Hot Encoding (Nominal)\n",
            "- I131 treatment: One-Hot Encoding (Nominal)\n",
            "- query hypothyroid: One-Hot Encoding (Nominal)\n",
            "- query hyperthyroid: One-Hot Encoding (Nominal)\n",
            "- lithium: One-Hot Encoding (Nominal)\n",
            "- goitre: One-Hot Encoding (Nominal)\n",
            "- tumor: One-Hot Encoding (Nominal)\n",
            "- hypopituitary: One-Hot Encoding (Nominal)\n",
            "- psych: One-Hot Encoding (Nominal)\n",
            "- TSH measured: One-Hot Encoding (Nominal)\n",
            "- TSH: One-Hot Encoding (Nominal)\n",
            "- T3 measured: One-Hot Encoding (Nominal)\n",
            "- T3: One-Hot Encoding (Nominal)\n",
            "- TT4 measured: One-Hot Encoding (Nominal)\n",
            "- TT4: One-Hot Encoding (Nominal)\n",
            "- T4U measured: One-Hot Encoding (Nominal)\n",
            "- T4U: One-Hot Encoding (Nominal)\n",
            "- FTI measured: One-Hot Encoding (Nominal)\n",
            "- FTI: One-Hot Encoding (Nominal)\n",
            "- TBG measured: One-Hot Encoding (Nominal)\n",
            "- TBG: One-Hot Encoding (Nominal)\n",
            "- referral source: One-Hot Encoding (Nominal)\n",
            "- Condition: One-Hot Encoding (Nominal)\n",
            "\n",
            " Data range for numeric columns:\n",
            "\n",
            "          Record ID           age\n",
            "count  9.172000e+03   9172.000000\n",
            "mean   8.529473e+08     73.555822\n",
            "std    7.581969e+06   1183.976718\n",
            "min    8.408010e+08      1.000000\n",
            "25%    8.504090e+08     37.000000\n",
            "50%    8.510040e+08     55.000000\n",
            "75%    8.607110e+08     68.000000\n",
            "max    8.701190e+08  65526.000000\n",
            "\n",
            " Missing values in each column:\n",
            "\n",
            "Record ID                    0\n",
            "age                          0\n",
            "sex                          0\n",
            "on thyroxine                 0\n",
            "query on thyroxine           0\n",
            "on antithyroid medication    0\n",
            "sick                         0\n",
            "pregnant                     0\n",
            "thyroid surgery              0\n",
            "I131 treatment               0\n",
            "query hypothyroid            0\n",
            "query hyperthyroid           0\n",
            "lithium                      0\n",
            "goitre                       0\n",
            "tumor                        0\n",
            "hypopituitary                0\n",
            "psych                        0\n",
            "TSH measured                 0\n",
            "TSH                          0\n",
            "T3 measured                  0\n",
            "T3                           0\n",
            "TT4 measured                 0\n",
            "TT4                          0\n",
            "T4U measured                 0\n",
            "T4U                          0\n",
            "FTI measured                 0\n",
            "FTI                          0\n",
            "TBG measured                 0\n",
            "TBG                          0\n",
            "referral source              0\n",
            "Condition                    0\n",
            "dtype: int64\n",
            "\n",
            " Outlier summary (using IQR method):\n",
            "- Record ID: 0 outliers\n",
            "- age: 4 outliers\n",
            "\n",
            " Mean and Standard Deviation for numeric columns:\n",
            "- Record ID: Mean = 852947346.61, Std = 7581968.78\n",
            "- age: Mean = 73.56, Std = 1183.98\n"
          ]
        }
      ],
      "source": [
        "import pandas as pd\n",
        "df = pd.read_excel(\"/content/drive/MyDrive/ML Datasets/Lab Session Data.xlsx\", sheet_name=\"thyroid0387_UCI\")\n",
        "\n",
        "print(\" Data types of each column:\\n\")\n",
        "print(df.dtypes)\n",
        "\n",
        "\n",
        "print(\"\\nEncoding Suggestions:\")\n",
        "for col in df.columns:\n",
        "    if df[col].dtype == 'object':\n",
        "        print(f\"- {col}: One-Hot Encoding (Nominal)\")\n",
        "    elif df[col].dtype in ['int64', 'float64']:\n",
        "        unique_vals = df[col].dropna().unique()\n",
        "        if len(unique_vals) <= 10:\n",
        "            print(f\"- {col}: Label Encoding (Likely Ordinal)\")\n",
        "        else:\n",
        "            print(f\"- {col}: Numeric (No encoding needed)\")\n",
        "\n",
        "\n",
        "print(\"\\n Data range for numeric columns:\\n\")\n",
        "print(df.describe(include='number')) #shows summary stats for numeric columns\n",
        "\n",
        "print(\"\\n Missing values in each column:\\n\")\n",
        "print(df.isnull().sum()) #returns count of NaN per column\n",
        "\n",
        "\n",
        "print(\"\\n Outlier summary (using IQR method):\")\n",
        "for col in df.select_dtypes(include='number').columns:\n",
        "    series = df[col].dropna()\n",
        "    if series.empty:\n",
        "        print(f\"- {col}: Skipped (no valid numeric data)\")\n",
        "        continue\n",
        "    Q1 = series.quantile(0.25)\n",
        "    Q3 = series.quantile(0.75)\n",
        "    IQR = Q3 - Q1\n",
        "    if IQR == 0:\n",
        "        print(f\"- {col}: Skipped (IQR = 0, all values nearly same)\")\n",
        "    else:\n",
        "        outliers = df[(df[col] < (Q1 - 1.5 * IQR)) | (df[col] > (Q3 + 1.5 * IQR))]\n",
        "        print(f\"- {col}: {len(outliers)} outliers\")\n",
        "\n",
        "\n",
        "print(\"\\n Mean and Standard Deviation for numeric columns:\")\n",
        "for col in df.select_dtypes(include='number').columns:\n",
        "    values = df[col].dropna()\n",
        "    if values.empty:\n",
        "        print(f\"- {col}: Skipped (all values are NaN)\")\n",
        "    else:\n",
        "        print(f\"- {col}: Mean = {values.mean():.2f}, Std = {values.std():.2f}\")\n"
      ]
    },
    {
      "cell_type": "markdown",
      "id": "bb46b663",
      "metadata": {
        "id": "bb46b663"
      },
      "source": [
        "## A6: Cosine Similarity (Full Vectors)"
      ]
    },
    {
      "cell_type": "code",
      "execution_count": 8,
      "id": "72858da9",
      "metadata": {
        "id": "72858da9",
        "outputId": "94817e1a-e5e6-4e6b-d5b4-53a5c5689c75",
        "colab": {
          "base_uri": "https://localhost:8080/"
        }
      },
      "outputs": [
        {
          "output_type": "stream",
          "name": "stdout",
          "text": [
            "Binary Columns Used: ['on thyroxine', 'query on thyroxine', 'on antithyroid medication', 'sick', 'pregnant', 'thyroid surgery', 'I131 treatment', 'query hypothyroid', 'query hyperthyroid', 'lithium', 'goitre', 'tumor', 'hypopituitary', 'psych', 'TSH measured', 'T3 measured', 'TT4 measured', 'T4U measured', 'FTI measured', 'TBG measured']\n",
            "f11 (1 in both): 1\n",
            "f00 (0 in both): 16\n",
            "f10 (1 in v1 only): 1\n",
            "f01 (1 in v2 only): 2\n",
            "Jaccard Coefficient (JC): 0.25\n",
            "Simple Matching Coefficient (SMC): 0.85\n"
          ]
        },
        {
          "output_type": "stream",
          "name": "stderr",
          "text": [
            "/tmp/ipython-input-3122906413.py:8: FutureWarning: Downcasting behavior in `replace` is deprecated and will be removed in a future version. To retain the old behavior, explicitly call `result.infer_objects(copy=False)`. To opt-in to the future behavior, set `pd.set_option('future.no_silent_downcasting', True)`\n",
            "  binary_df = df[binary_cols].replace({'t': 1, 'f': 0})\n"
          ]
        }
      ],
      "source": [
        "import pandas as pd\n",
        "df = pd.read_excel(\"/content/drive/MyDrive/ML Datasets/Lab Session Data.xlsx\", sheet_name=\"thyroid0387_UCI\")\n",
        "binary_cols = []\n",
        "for col in df.columns:\n",
        "    unique_vals = df[col].dropna().unique()\n",
        "    if set(unique_vals).issubset({'t', 'f'}): #Checks if all values are only 't' or 'f' (ignoring NaN)\n",
        "        binary_cols.append(col)\n",
        "binary_df = df[binary_cols].replace({'t': 1, 'f': 0})\n",
        "v1 = binary_df.iloc[0]\n",
        "v2 = binary_df.iloc[1]\n",
        "f11 = ((v1 == 1) & (v2 == 1)).sum() #Counts how many columns are 1 in both v1 and v2.\n",
        "f00 = ((v1 == 0) & (v2 == 0)).sum() #Counts how many columns are 0 in both v1 and v2\n",
        "f10 = ((v1 == 1) & (v2 == 0)).sum() #Counts how many columns are 1 in v1 but 0 in v2.\n",
        "f01 = ((v1 == 0) & (v2 == 1)).sum() #Counts how many columns are 0 in v1 but 1 in v2\n",
        "\n",
        "\n",
        "jc = f11 / (f01 + f10 + f11) if (f01 + f10 + f11) > 0 else \"Undefined\" #jaccard similarty measure\n",
        "smc = (f11 + f00) / (f00 + f01 + f10 + f11) if (f00 + f01 + f10 + f11) > 0 else \"Undefined\" #simple matching coefficient\n",
        "\n",
        "\n",
        "print(\"Binary Columns Used:\", binary_cols)\n",
        "print(\"f11 (1 in both):\", f11)\n",
        "print(\"f00 (0 in both):\", f00)\n",
        "print(\"f10 (1 in v1 only):\", f10)\n",
        "print(\"f01 (1 in v2 only):\", f01)\n",
        "print(\"Jaccard Coefficient (JC):\", jc)\n",
        "print(\"Simple Matching Coefficient (SMC):\", smc)\n"
      ]
    },
    {
      "cell_type": "markdown",
      "id": "0bdffb91",
      "metadata": {
        "id": "0bdffb91"
      },
      "source": [
        "## A7: Cosine Similarity\n"
      ]
    },
    {
      "cell_type": "code",
      "execution_count": 7,
      "id": "40ecc9e3",
      "metadata": {
        "id": "40ecc9e3",
        "outputId": "5b836d02-dedd-49c3-d836-b71d3c3e87ff",
        "colab": {
          "base_uri": "https://localhost:8080/"
        }
      },
      "outputs": [
        {
          "output_type": "stream",
          "name": "stdout",
          "text": [
            "Cosine Similarity between Row 1 and Row 2: 1.0\n"
          ]
        }
      ],
      "source": [
        "import pandas as pd\n",
        "from sklearn.preprocessing import LabelEncoder\n",
        "from numpy import dot\n",
        "from numpy.linalg import norm\n",
        "\n",
        "\n",
        "df = pd.read_excel(\"/content/drive/MyDrive/ML Datasets/Lab Session Data.xlsx\", sheet_name=\"thyroid0387_UCI\")\n",
        "df = df.dropna(how='all') #Removes rows that are completely empty (all NaNs)\n",
        "df = df.fillna(0) #Replaces all other missing values with 0\n",
        "for col in df.columns:\n",
        "    if df[col].dtype == 'object':\n",
        "        le = LabelEncoder()\n",
        "        df[col] = le.fit_transform(df[col].astype(str)) #Converts categories into integers\n",
        "A = df.iloc[0].values\n",
        "B = df.iloc[1].values\n",
        "cosine_similarity = dot(A, B) / (norm(A) * norm(B))\n",
        "print(\"Cosine Similarity between Row 1 and Row 2:\", round(cosine_similarity, 4))\n"
      ]
    },
    {
      "cell_type": "markdown",
      "id": "2cb536ea",
      "metadata": {
        "id": "2cb536ea"
      },
      "source": [
        "## A8: Data Imputation for Missing Values heatmap comparision for similarity measures"
      ]
    },
    {
      "cell_type": "code",
      "execution_count": 6,
      "id": "89a8c949",
      "metadata": {
        "id": "89a8c949",
        "outputId": "fa1a5f3e-308a-4fea-e8bb-6173df66e7ea",
        "colab": {
          "base_uri": "https://localhost:8080/",
          "height": 301
        }
      },
      "outputs": [
        {
          "output_type": "display_data",
          "data": {
            "text/plain": [
              "<Figure size 1500x500 with 6 Axes>"
            ],
            "image/png": "[encoded data removed]"
          },
          "metadata": {}
        }
      ],
      "source": [
        "import pandas as pd\n",
        "import numpy as np\n",
        "import seaborn as sns\n",
        "import matplotlib.pyplot as plt\n",
        "from sklearn.preprocessing import LabelEncoder\n",
        "from numpy import dot\n",
        "from numpy.linalg import norm\n",
        "\n",
        "\n",
        "df = pd.read_excel(\"/content/drive/MyDrive/ML Datasets/Lab Session Data.xlsx\", sheet_name=\"thyroid0387_UCI\")\n",
        "df = df.dropna(how='all').fillna(0)\n",
        "for col in df.columns:\n",
        "    if df[col].dtype == 'object':\n",
        "        df[col] = LabelEncoder().fit_transform(df[col].astype(str))\n",
        "\n",
        "df20 = df.iloc[:20]\n",
        "def jaccard(v1, v2):\n",
        "    f11 = np.sum((v1 == 1) & (v2 == 1))\n",
        "    f10 = np.sum((v1 == 1) & (v2 == 0))\n",
        "    f01 = np.sum((v1 == 0) & (v2 == 1))\n",
        "    denom = f11 + f10 + f01\n",
        "    return f11 / denom if denom else 0\n",
        "\n",
        "def smc(v1, v2):\n",
        "    f11 = np.sum((v1 == 1) & (v2 == 1))\n",
        "    f00 = np.sum((v1 == 0) & (v2 == 0))\n",
        "    total = len(v1)\n",
        "    return (f11 + f00) / total\n",
        "\n",
        "def cosine(v1, v2):\n",
        "    return dot(v1, v2) / (norm(v1) * norm(v2)) if norm(v1) * norm(v2) != 0 else 0\n",
        "\n",
        "\n",
        "n = 20\n",
        "JC = np.zeros((n, n))\n",
        "SMC = np.zeros((n, n))\n",
        "COS = np.zeros((n, n))\n",
        "for i in range(n):\n",
        "    for j in range(n):\n",
        "        JC[i][j] = jaccard(df20.iloc[i], df20.iloc[j])\n",
        "        SMC[i][j] = smc(df20.iloc[i], df20.iloc[j])\n",
        "        COS[i][j] = cosine(df20.iloc[i], df20.iloc[j])\n",
        "plt.figure(figsize=(15, 5))\n",
        "plt.subplot(1, 3, 1)\n",
        "sns.heatmap(JC, annot=False, cmap='Blues')\n",
        "plt.title(\"Jaccard Coefficient\")\n",
        "plt.subplot(1, 3, 2)\n",
        "sns.heatmap(SMC, annot=False, cmap='Greens')\n",
        "plt.title(\"Simple Matching Coefficient\")\n",
        "plt.subplot(1, 3, 3)\n",
        "sns.heatmap(COS, annot=False, cmap='Purples')\n",
        "plt.title(\"Cosine Similarity\")\n",
        "plt.tight_layout()\n",
        "plt.show()\n"
      ]
    },
    {
      "cell_type": "markdown",
      "id": "97f48816",
      "metadata": {
        "id": "97f48816"
      },
      "source": [
        "## A9: Data Normalization / Scaling"
      ]
    },
    {
      "cell_type": "code",
      "execution_count": 8,
      "id": "fc8b3778",
      "metadata": {
        "id": "fc8b3778",
        "outputId": "57b1b3fe-5841-4a28-a277-95cc6c891aaf",
        "colab": {
          "base_uri": "https://localhost:8080/"
        }
      },
      "outputs": [
        {
          "output_type": "stream",
          "name": "stdout",
          "text": [
            " Missing values have been filled appropriately.\n"
          ]
        }
      ],
      "source": [
        "import pandas as pd\n",
        "\n",
        "df = pd.read_excel(\"/content/drive/MyDrive/ML Datasets/Lab Session Data.xlsx\", sheet_name=\"thyroid0387_UCI\")\n",
        "for col in df.columns:\n",
        "    if df[col].isnull().sum() > 0:\n",
        "        if df[col].dtype == 'object':\n",
        "            df[col] = df[col].fillna(df[col].mode()[0])\n",
        "        else:\n",
        "            Q1 = df[col].quantile(0.25)\n",
        "            Q3 = df[col].quantile(0.75)\n",
        "            IQR = Q3 - Q1\n",
        "            outliers = ((df[col] < (Q1 - 1.5 * IQR)) | (df[col] > (Q3 + 1.5 * IQR))).any()\n",
        "            if outliers:\n",
        "                df[col] = df[col].fillna(df[col].median())\n",
        "            else:\n",
        "                df[col] = df[col].fillna(df[col].mean())\n",
        "\n",
        "print(\" Missing values have been filled appropriately.\")\n"
      ]
    },
    {
      "cell_type": "code",
      "execution_count": 9,
      "id": "11a6d36a",
      "metadata": {
        "id": "11a6d36a",
        "outputId": "daf65c88-df47-4242-9122-7fb48543ba89",
        "colab": {
          "base_uri": "https://localhost:8080/"
        }
      },
      "outputs": [
        {
          "output_type": "stream",
          "name": "stdout",
          "text": [
            " Numeric values have been normalized using Min-Max Scaling.\n",
            "      Record ID       age\n",
            "0  0.000000e+00  0.000427\n",
            "1  3.410871e-08  0.000427\n",
            "2  9.891527e-07  0.000610\n",
            "3  6.934301e-05  0.000534\n",
            "4  6.937712e-05  0.000473\n"
          ]
        }
      ],
      "source": [
        "from sklearn.preprocessing import MinMaxScaler\n",
        "numeric_cols = df.select_dtypes(include=['int64', 'float64']).columns\n",
        "scaler = MinMaxScaler()\n",
        "df[numeric_cols] = scaler.fit_transform(df[numeric_cols])\n",
        "\n",
        "print(\" Numeric values have been normalized using Min-Max Scaling.\")\n",
        "print(df[numeric_cols].head())\n"
      ]
    },
    {
      "cell_type": "code",
      "execution_count": null,
      "id": "958ab7ac",
      "metadata": {
        "id": "958ab7ac"
      },
      "outputs": [],
      "source": []
    }
  ],
  "metadata": {
    "kernelspec": {
      "display_name": "Python 3 (ipykernel)",
      "language": "python",
      "name": "python3"
    },
    "language_info": {
      "codemirror_mode": {
        "name": "ipython",
        "version": 3
      },
      "file_extension": ".py",
      "mimetype": "text/x-python",
      "name": "python",
      "nbconvert_exporter": "python",
      "pygments_lexer": "ipython3",
      "version": "3.11.5"
    },
    "colab": {
      "provenance": []
    }
  },
  "nbformat": 4,
  "nbformat_minor": 5
}